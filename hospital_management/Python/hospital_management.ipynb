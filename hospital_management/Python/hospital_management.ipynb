{
 "cells": [
  {
   "cell_type": "code",
   "execution_count": null,
   "id": "e1114817-871b-46d0-96ea-19de5e9effcc",
   "metadata": {},
   "outputs": [],
   "source": []
  },
  {
   "cell_type": "code",
   "execution_count": 2,
   "id": "95945301-82fa-43df-98e7-d874603f4880",
   "metadata": {},
   "outputs": [
    {
     "data": {
      "text/html": [
       "<div>\n",
       "<style scoped>\n",
       "    .dataframe tbody tr th:only-of-type {\n",
       "        vertical-align: middle;\n",
       "    }\n",
       "\n",
       "    .dataframe tbody tr th {\n",
       "        vertical-align: top;\n",
       "    }\n",
       "\n",
       "    .dataframe thead th {\n",
       "        text-align: right;\n",
       "    }\n",
       "</style>\n",
       "<table border=\"1\" class=\"dataframe\">\n",
       "  <thead>\n",
       "    <tr style=\"text-align: right;\">\n",
       "      <th></th>\n",
       "      <th>doctor_id</th>\n",
       "      <th>first_name</th>\n",
       "      <th>last_namle</th>\n",
       "      <th>specialization</th>\n",
       "      <th>phone_number</th>\n",
       "      <th>year_experience</th>\n",
       "      <th>hospital_branch</th>\n",
       "      <th>email</th>\n",
       "    </tr>\n",
       "  </thead>\n",
       "  <tbody>\n",
       "    <tr>\n",
       "      <th>0</th>\n",
       "      <td>D001</td>\n",
       "      <td>David</td>\n",
       "      <td>Taylor</td>\n",
       "      <td>Dermatology</td>\n",
       "      <td>8322010158</td>\n",
       "      <td>17</td>\n",
       "      <td>Westside Clinic</td>\n",
       "      <td>dr.david.taylor@hospital.com</td>\n",
       "    </tr>\n",
       "    <tr>\n",
       "      <th>1</th>\n",
       "      <td>D002</td>\n",
       "      <td>Jane</td>\n",
       "      <td>Davis</td>\n",
       "      <td>Pediatrics</td>\n",
       "      <td>9004382050</td>\n",
       "      <td>24</td>\n",
       "      <td>Eastside Clinic</td>\n",
       "      <td>dr.jane.davis@hospital.com</td>\n",
       "    </tr>\n",
       "    <tr>\n",
       "      <th>2</th>\n",
       "      <td>D003</td>\n",
       "      <td>Jane</td>\n",
       "      <td>Smith</td>\n",
       "      <td>Pediatrics</td>\n",
       "      <td>8737740598</td>\n",
       "      <td>19</td>\n",
       "      <td>Eastside Clinic</td>\n",
       "      <td>dr.jane.smith@hospital.com</td>\n",
       "    </tr>\n",
       "    <tr>\n",
       "      <th>3</th>\n",
       "      <td>D004</td>\n",
       "      <td>David</td>\n",
       "      <td>Jones</td>\n",
       "      <td>Pediatrics</td>\n",
       "      <td>6594221991</td>\n",
       "      <td>28</td>\n",
       "      <td>Central Hospital</td>\n",
       "      <td>dr.david.jones@hospital.com</td>\n",
       "    </tr>\n",
       "    <tr>\n",
       "      <th>4</th>\n",
       "      <td>D005</td>\n",
       "      <td>Sarah</td>\n",
       "      <td>Taylor</td>\n",
       "      <td>Dermatology</td>\n",
       "      <td>9118538547</td>\n",
       "      <td>26</td>\n",
       "      <td>Central Hospital</td>\n",
       "      <td>dr.sarah.taylor@hospital.com</td>\n",
       "    </tr>\n",
       "  </tbody>\n",
       "</table>\n",
       "</div>"
      ],
      "text/plain": [
       "  doctor_id first_name last_namle specialization phone_number  \\\n",
       "0      D001      David     Taylor    Dermatology   8322010158   \n",
       "1      D002       Jane      Davis     Pediatrics   9004382050   \n",
       "2      D003       Jane      Smith     Pediatrics   8737740598   \n",
       "3      D004      David      Jones     Pediatrics   6594221991   \n",
       "4      D005      Sarah     Taylor    Dermatology   9118538547   \n",
       "\n",
       "   year_experience   hospital_branch                         email  \n",
       "0               17   Westside Clinic  dr.david.taylor@hospital.com  \n",
       "1               24   Eastside Clinic    dr.jane.davis@hospital.com  \n",
       "2               19   Eastside Clinic    dr.jane.smith@hospital.com  \n",
       "3               28  Central Hospital   dr.david.jones@hospital.com  \n",
       "4               26  Central Hospital  dr.sarah.taylor@hospital.com  "
      ]
     },
     "execution_count": 2,
     "metadata": {},
     "output_type": "execute_result"
    }
   ],
   "source": [
    "query=\"\"\" select * from Doctor \"\"\"\n",
    "df1=pd.read_sql(query,engine)\n",
    "df1.head()"
   ]
  },
  {
   "cell_type": "code",
   "execution_count": 3,
   "id": "27ad8af2-3a17-4ac6-b77b-ae3ef4e1d74a",
   "metadata": {
    "scrolled": true
   },
   "outputs": [],
   "source": [
    "import matplotlib.pyplot as plt\n",
    "import seaborn as sns"
   ]
  },
  {
   "cell_type": "markdown",
   "id": "75ef026b-8f91-4189-9379-9ac25ee9d620",
   "metadata": {},
   "source": [
    "##### 1.How many total appointments were made per doctor?"
   ]
  },
  {
   "cell_type": "code",
   "execution_count": 4,
   "id": "1d049c1e-13aa-4916-a804-37e7efbce687",
   "metadata": {},
   "outputs": [
    {
     "name": "stderr",
     "output_type": "stream",
     "text": [
      "C:\\Users\\ADMIN\\AppData\\Local\\Temp\\ipykernel_4704\\3788345147.py:11: FutureWarning: \n",
      "\n",
      "Passing `palette` without assigning `hue` is deprecated and will be removed in v0.14.0. Assign the `x` variable to `hue` and set `legend=False` for the same effect.\n",
      "\n",
      "  sns.barplot(data=df_doctor,x='doctor_name' ,y='total_appointment', palette='viridis')\n"
     ]
    },
    {
     "data": {
      "image/png": "[encoded data removed]",
      "text/plain": [
       "<Figure size 800x400 with 1 Axes>"
      ]
     },
     "metadata": {},
     "output_type": "display_data"
    }
   ],
   "source": [
    "query1= \"\"\"\n",
    "       select d.first_name ||' ' || d.last_namle as doctor_name, \n",
    "count(a.appointment_id) as total_appointment from doctor as d \n",
    "left join appointment as a  on d.doctor_id=a.doctor_id \n",
    "group by doctor_name \n",
    "order by total_appointment desc;\n",
    "\"\"\"\n",
    "df_doctor=pd.read_sql(query1,engine)\n",
    "\n",
    "plt.figure(figsize=(8,4))\n",
    "sns.barplot(data=df_doctor,x='doctor_name' ,y='total_appointment', palette='viridis')\n",
    "plt.title('Top 10 Doctors by Number of Appointments')\n",
    "plt.xlabel('Doctor')\n",
    "plt.ylabel('Total Appointments')\n",
    "plt.xticks(rotation=45)\n",
    "plt.tight_layout()\n",
    "plt.show()"
   ]
  },
  {
   "cell_type": "markdown",
   "id": "c29c7085-1dbe-42ba-a708-56e830aa4e97",
   "metadata": {},
   "source": [
    "##### 2.Which patients have the highest number of appointments?"
   ]
  },
  {
   "cell_type": "code",
   "execution_count": 5,
   "id": "bdb74599-88bd-432e-aba6-9434fa0ea162",
   "metadata": {},
   "outputs": [
    {
     "name": "stderr",
     "output_type": "stream",
     "text": [
      "C:\\Users\\ADMIN\\AppData\\Local\\Temp\\ipykernel_4704\\1678555168.py:11: FutureWarning: \n",
      "\n",
      "Passing `palette` without assigning `hue` is deprecated and will be removed in v0.14.0. Assign the `x` variable to `hue` and set `legend=False` for the same effect.\n",
      "\n",
      "  sns.barplot(data=df_patient ,x='patient_name', y='total_appointments',palette='viridis')\n"
     ]
    },
    {
     "data": {
      "image/png": "[encoded data removed]",
      "text/plain": [
       "<Figure size 800x400 with 1 Axes>"
      ]
     },
     "metadata": {},
     "output_type": "display_data"
    }
   ],
   "source": [
    "query2= \"\"\"\n",
    "      select p.first_name ||' '|| p.last_name as patient_name,\n",
    "count(a.appointment_id) as total_appointments from patient as p \n",
    "left join appointment as a on p.patient_id=a.patient_id\n",
    "group by patient_name\n",
    "order by total_appointments desc limit 10;\n",
    "\"\"\"\n",
    "df_patient=pd.read_sql(query2,engine)\n",
    "\n",
    "plt.figure(figsize=(8,4))\n",
    "sns.barplot(data=df_patient ,x='patient_name', y='total_appointments',palette='viridis')\n",
    "plt.xlabel(\"patients Name\")\n",
    "plt.xticks(rotation=45)\n",
    "plt.tight_layout()\n",
    "plt.show()"
   ]
  },
  {
   "cell_type": "markdown",
   "id": "98a0af27-4b08-44fe-9722-da239a5eddb3",
   "metadata": {},
   "source": [
    "##### 3.What is the trend of appointments over the last 12 months?"
   ]
  },
  {
   "cell_type": "code",
   "execution_count": 8,
   "id": "30ea37c2-6349-4819-b41e-b646314a3f94",
   "metadata": {},
   "outputs": [
    {
     "name": "stderr",
     "output_type": "stream",
     "text": [
      "C:\\Users\\ADMIN\\AppData\\Local\\Temp\\ipykernel_4704\\1711229506.py:9: UserWarning: Ignoring `palette` because no `hue` variable has been assigned.\n",
      "  sns.lineplot(data=df_month , x='month_name',y='total_appointments' ,palette='viridis')\n"
     ]
    },
    {
     "data": {
      "image/png": "[encoded data removed]",
      "text/plain": [
       "<Figure size 800x400 with 1 Axes>"
      ]
     },
     "metadata": {},
     "output_type": "display_data"
    }
   ],
   "source": [
    "query3=\"\"\"\n",
    "      SELECT  extract(month from appointment_date) AS month_name,\n",
    "           COUNT(*) AS total_appointments\n",
    "FROM appointment group by month_name order by month_name;\n",
    "\"\"\"\n",
    "df_month=pd.read_sql(query3 , engine)\n",
    "\n",
    "plt.figure(figsize=(8,4))\n",
    "sns.lineplot(data=df_month , x='month_name',y='total_appointments' ,palette='viridis')\n",
    "plt.xlabel('Month')\n",
    "plt.ylabel(\"patient counts\")\n",
    "plt.grid(True)\n",
    "plt.show()"
   ]
  },
  {
   "cell_type": "markdown",
   "id": "c5598a4b-f4de-4258-b727-9799b9601b44",
   "metadata": {},
   "source": [
    "##### 4.How many appointments were completed, canceled, or pending?"
   ]
  },
  {
   "cell_type": "code",
   "execution_count": 24,
   "id": "b93352c7-df46-429b-8168-e9e509fe67d7",
   "metadata": {},
   "outputs": [
    {
     "data": {
      "text/plain": [
       "Text(0, 0.5, 'Count')"
      ]
     },
     "execution_count": 24,
     "metadata": {},
     "output_type": "execute_result"
    },
    {
     "data": {
      "image/png": "[encoded data removed]",
      "text/plain": [
       "<Figure size 600x400 with 1 Axes>"
      ]
     },
     "metadata": {},
     "output_type": "display_data"
    }
   ],
   "source": [
    "query4=\"\"\"\n",
    "         select status,count(a.appointment_id) as appointment from appointment as a \n",
    "group by status order by appointment desc;\n",
    "\"\"\"\n",
    "\n",
    "df_status=pd.read_sql(query4,engine)\n",
    "plt.figure(figsize=(6,4))\n",
    "sns.barplot(data=df_status, x='status', y='appointment')\n",
    "plt.xlabel(\"Status\")\n",
    "plt.ylabel(\"Count\")\n",
    "#plt.show()"
   ]
  },
  {
   "cell_type": "markdown",
   "id": "c6b03189-f8c8-4150-b661-77052a5c1fd2",
   "metadata": {},
   "source": [
    "##### 5.What is the total billing amount generated per month?"
   ]
  },
  {
   "cell_type": "code",
   "execution_count": 34,
   "id": "a2afde0b-ab5d-43f7-96eb-bd34dad87d10",
   "metadata": {
    "scrolled": true
   },
   "outputs": [
    {
     "data": {
      "image/png": "[encoded data removed]",
      "text/plain": [
       "<Figure size 800x400 with 1 Axes>"
      ]
     },
     "metadata": {},
     "output_type": "display_data"
    }
   ],
   "source": [
    "query5=\"\"\"\n",
    " select extract(month from b.bill_date)as Month ,sum(b.amount) as Total_Amount \n",
    "from billing as b group by Month order by Month ;      \n",
    "\"\"\"\n",
    "df_month=pd.read_sql(query5,engine)\n",
    "\n",
    "plt.figure(figsize=(8,4))\n",
    "sns.lineplot(data= df_month, x='month', y='total_amount')\n",
    "plt.xlabel(\"Months\")\n",
    "plt.ylabel(\"Amount\")\n",
    "plt.grid()\n",
    "plt.show()\n"
   ]
  },
  {
   "cell_type": "markdown",
   "id": "f2479926-fe60-46b2-928c-42837663ece3",
   "metadata": {},
   "source": [
    "##### 6.Which doctor generates the most revenue?"
   ]
  },
  {
   "cell_type": "code",
   "execution_count": 35,
   "id": "fcd82c69-b3fd-4184-b296-95c202b61afd",
   "metadata": {},
   "outputs": [
    {
     "data": {
      "text/html": [
       "<div>\n",
       "<style scoped>\n",
       "    .dataframe tbody tr th:only-of-type {\n",
       "        vertical-align: middle;\n",
       "    }\n",
       "\n",
       "    .dataframe tbody tr th {\n",
       "        vertical-align: top;\n",
       "    }\n",
       "\n",
       "    .dataframe thead th {\n",
       "        text-align: right;\n",
       "    }\n",
       "</style>\n",
       "<table border=\"1\" class=\"dataframe\">\n",
       "  <thead>\n",
       "    <tr style=\"text-align: right;\">\n",
       "      <th></th>\n",
       "      <th>doctor_name</th>\n",
       "      <th>revenue</th>\n",
       "    </tr>\n",
       "  </thead>\n",
       "  <tbody>\n",
       "    <tr>\n",
       "      <th>0</th>\n",
       "      <td>Sarah Taylor</td>\n",
       "      <td>394356.89</td>\n",
       "    </tr>\n",
       "    <tr>\n",
       "      <th>1</th>\n",
       "      <td>Alex Davis</td>\n",
       "      <td>339280.84</td>\n",
       "    </tr>\n",
       "    <tr>\n",
       "      <th>2</th>\n",
       "      <td>David Taylor</td>\n",
       "      <td>336851.92</td>\n",
       "    </tr>\n",
       "    <tr>\n",
       "      <th>3</th>\n",
       "      <td>Linda Wilson</td>\n",
       "      <td>304846.08</td>\n",
       "    </tr>\n",
       "    <tr>\n",
       "      <th>4</th>\n",
       "      <td>Jane Smith</td>\n",
       "      <td>279957.14</td>\n",
       "    </tr>\n",
       "    <tr>\n",
       "      <th>5</th>\n",
       "      <td>Jane Davis</td>\n",
       "      <td>264650.98</td>\n",
       "    </tr>\n",
       "    <tr>\n",
       "      <th>6</th>\n",
       "      <td>Linda Brown</td>\n",
       "      <td>234358.03</td>\n",
       "    </tr>\n",
       "    <tr>\n",
       "      <th>7</th>\n",
       "      <td>Sarah Smith</td>\n",
       "      <td>214192.66</td>\n",
       "    </tr>\n",
       "    <tr>\n",
       "      <th>8</th>\n",
       "      <td>David Jones</td>\n",
       "      <td>191212.99</td>\n",
       "    </tr>\n",
       "    <tr>\n",
       "      <th>9</th>\n",
       "      <td>Robert Davis</td>\n",
       "      <td>188582.63</td>\n",
       "    </tr>\n",
       "  </tbody>\n",
       "</table>\n",
       "</div>"
      ],
      "text/plain": [
       "    doctor_name    revenue\n",
       "0  Sarah Taylor  394356.89\n",
       "1    Alex Davis  339280.84\n",
       "2  David Taylor  336851.92\n",
       "3  Linda Wilson  304846.08\n",
       "4    Jane Smith  279957.14\n",
       "5    Jane Davis  264650.98\n",
       "6   Linda Brown  234358.03\n",
       "7   Sarah Smith  214192.66\n",
       "8   David Jones  191212.99\n",
       "9  Robert Davis  188582.63"
      ]
     },
     "execution_count": 35,
     "metadata": {},
     "output_type": "execute_result"
    }
   ],
   "source": [
    "query6=\"\"\"\n",
    "    select d.first_name ||' '|| d.last_namle as doctor_name ,\n",
    "sum(b.amount) as revenue from doctor as d\n",
    "join appointment as a on d.doctor_id=a.doctor_id\n",
    "join billing as b on a.patient_id=b.patient_id \n",
    "group by doctor_name order by revenue desc;  \n",
    "\"\"\"\n",
    "df_doctor=pd.read_sql(query6,engine)\n",
    "df_doctor\n"
   ]
  },
  {
   "cell_type": "markdown",
   "id": "b4766982-4034-46ab-b489-32aa3d6ad567",
   "metadata": {},
   "source": [
    "##### 7.What is the average billing amount per treatment type?"
   ]
  },
  {
   "cell_type": "code",
   "execution_count": 46,
   "id": "7a642e60-2595-4b04-b3f3-792d20520596",
   "metadata": {},
   "outputs": [
    {
     "data": {
      "text/html": [
       "<div>\n",
       "<style scoped>\n",
       "    .dataframe tbody tr th:only-of-type {\n",
       "        vertical-align: middle;\n",
       "    }\n",
       "\n",
       "    .dataframe tbody tr th {\n",
       "        vertical-align: top;\n",
       "    }\n",
       "\n",
       "    .dataframe thead th {\n",
       "        text-align: right;\n",
       "    }\n",
       "</style>\n",
       "<table border=\"1\" class=\"dataframe\">\n",
       "  <thead>\n",
       "    <tr style=\"text-align: right;\">\n",
       "      <th></th>\n",
       "      <th>treatmenttype</th>\n",
       "      <th>average_amount</th>\n",
       "    </tr>\n",
       "  </thead>\n",
       "  <tbody>\n",
       "    <tr>\n",
       "      <th>0</th>\n",
       "      <td>MRI</td>\n",
       "      <td>3224.948889</td>\n",
       "    </tr>\n",
       "    <tr>\n",
       "      <th>1</th>\n",
       "      <td>Physiotherapy</td>\n",
       "      <td>2761.613889</td>\n",
       "    </tr>\n",
       "    <tr>\n",
       "      <th>2</th>\n",
       "      <td>X-Ray</td>\n",
       "      <td>2698.870000</td>\n",
       "    </tr>\n",
       "    <tr>\n",
       "      <th>3</th>\n",
       "      <td>Chemotherapy</td>\n",
       "      <td>2629.707755</td>\n",
       "    </tr>\n",
       "    <tr>\n",
       "      <th>4</th>\n",
       "      <td>ECG</td>\n",
       "      <td>2532.216842</td>\n",
       "    </tr>\n",
       "  </tbody>\n",
       "</table>\n",
       "</div>"
      ],
      "text/plain": [
       "   treatmenttype  average_amount\n",
       "0            MRI     3224.948889\n",
       "1  Physiotherapy     2761.613889\n",
       "2          X-Ray     2698.870000\n",
       "3   Chemotherapy     2629.707755\n",
       "4            ECG     2532.216842"
      ]
     },
     "execution_count": 46,
     "metadata": {},
     "output_type": "execute_result"
    }
   ],
   "source": [
    "query7=\"\"\"\n",
    "select  t.tretment_type as treatmenttype ,avg(b.amount) as average_amount \n",
    "from treatment as t\n",
    "left join billing as b on t.treatment_id=b.treatment_id \n",
    "group by treatmenttype order by average_amount desc;\n",
    "\"\"\"\n",
    "treatment=pd.read_sql(query7,engine)\n",
    "treatment"
   ]
  },
  {
   "cell_type": "code",
   "execution_count": null,
   "id": "34dad495-9664-4c84-9767-ef867d14ce3d",
   "metadata": {},
   "outputs": [],
   "source": [
    "##### 8.What percentage of billing is overdue or unpaid?"
   ]
  },
  {
   "cell_type": "code",
   "execution_count": 56,
   "id": "3d685139-6c36-4540-82b1-bc8b20fc0fac",
   "metadata": {},
   "outputs": [
    {
     "data": {
      "text/plain": [
       "Text(0.5, 1.0, 'payment status')"
      ]
     },
     "execution_count": 56,
     "metadata": {},
     "output_type": "execute_result"
    },
    {
     "data": {
      "image/png": "[encoded data removed]",
      "text/plain": [
       "<Figure size 640x480 with 1 Axes>"
      ]
     },
     "metadata": {},
     "output_type": "display_data"
    }
   ],
   "source": [
    "query8=\"\"\"\n",
    "select payment_status,count(*)*100.0/(select count(*) from billing) as percentage\n",
    "   from billing group by Payment_status;\n",
    "\"\"\"\n",
    "payment=pd.read_sql(query8,engine)\n",
    "\n",
    "x=payment['percentage']\n",
    "y=payment['payment_status']\n",
    "\n",
    "plt.pie(x,labels=y,autopct=\"%0.2f%%\",startangle=-10,shadow=True)\n",
    "plt.title(\"payment status\")"
   ]
  },
  {
   "cell_type": "markdown",
   "id": "326ccb71-0601-4830-84bc-e5e3f0113dd4",
   "metadata": {},
   "source": [
    "##### 9.How many patients received each type of treatment?"
   ]
  },
  {
   "cell_type": "code",
   "execution_count": 57,
   "id": "1310ea85-6989-4ed3-83ad-7dd9463a3db2",
   "metadata": {},
   "outputs": [
    {
     "data": {
      "text/html": [
       "<div>\n",
       "<style scoped>\n",
       "    .dataframe tbody tr th:only-of-type {\n",
       "        vertical-align: middle;\n",
       "    }\n",
       "\n",
       "    .dataframe tbody tr th {\n",
       "        vertical-align: top;\n",
       "    }\n",
       "\n",
       "    .dataframe thead th {\n",
       "        text-align: right;\n",
       "    }\n",
       "</style>\n",
       "<table border=\"1\" class=\"dataframe\">\n",
       "  <thead>\n",
       "    <tr style=\"text-align: right;\">\n",
       "      <th></th>\n",
       "      <th>tretment_type</th>\n",
       "      <th>total</th>\n",
       "    </tr>\n",
       "  </thead>\n",
       "  <tbody>\n",
       "    <tr>\n",
       "      <th>0</th>\n",
       "      <td>Chemotherapy</td>\n",
       "      <td>49</td>\n",
       "    </tr>\n",
       "    <tr>\n",
       "      <th>1</th>\n",
       "      <td>X-Ray</td>\n",
       "      <td>41</td>\n",
       "    </tr>\n",
       "    <tr>\n",
       "      <th>2</th>\n",
       "      <td>ECG</td>\n",
       "      <td>38</td>\n",
       "    </tr>\n",
       "    <tr>\n",
       "      <th>3</th>\n",
       "      <td>MRI</td>\n",
       "      <td>36</td>\n",
       "    </tr>\n",
       "    <tr>\n",
       "      <th>4</th>\n",
       "      <td>Physiotherapy</td>\n",
       "      <td>36</td>\n",
       "    </tr>\n",
       "  </tbody>\n",
       "</table>\n",
       "</div>"
      ],
      "text/plain": [
       "   tretment_type  total\n",
       "0   Chemotherapy     49\n",
       "1          X-Ray     41\n",
       "2            ECG     38\n",
       "3            MRI     36\n",
       "4  Physiotherapy     36"
      ]
     },
     "execution_count": 57,
     "metadata": {},
     "output_type": "execute_result"
    }
   ],
   "source": [
    "query9=\"\"\"\n",
    "select tretment_type,count(appointment_id) as total\n",
    "from treatment group by tretment_type order by total desc;\n",
    "\"\"\"\n",
    "treatment=pd.read_sql(query9,engine)\n",
    "treatment"
   ]
  },
  {
   "cell_type": "markdown",
   "id": "e80aabbf-9c56-426a-963b-eea5e4522e76",
   "metadata": {},
   "source": [
    "##### 10.What is the average cost associated with each treatment?"
   ]
  },
  {
   "cell_type": "code",
   "execution_count": 61,
   "id": "dcc22815-3604-40cc-9ee9-c0cb92a3c753",
   "metadata": {},
   "outputs": [
    {
     "data": {
      "text/html": [
       "<div>\n",
       "<style scoped>\n",
       "    .dataframe tbody tr th:only-of-type {\n",
       "        vertical-align: middle;\n",
       "    }\n",
       "\n",
       "    .dataframe tbody tr th {\n",
       "        vertical-align: top;\n",
       "    }\n",
       "\n",
       "    .dataframe thead th {\n",
       "        text-align: right;\n",
       "    }\n",
       "</style>\n",
       "<table border=\"1\" class=\"dataframe\">\n",
       "  <thead>\n",
       "    <tr style=\"text-align: right;\">\n",
       "      <th></th>\n",
       "      <th>tretment_type</th>\n",
       "      <th>average_cost</th>\n",
       "    </tr>\n",
       "  </thead>\n",
       "  <tbody>\n",
       "    <tr>\n",
       "      <th>0</th>\n",
       "      <td>MRI</td>\n",
       "      <td>3224.948889</td>\n",
       "    </tr>\n",
       "    <tr>\n",
       "      <th>1</th>\n",
       "      <td>Physiotherapy</td>\n",
       "      <td>2761.613889</td>\n",
       "    </tr>\n",
       "    <tr>\n",
       "      <th>2</th>\n",
       "      <td>X-Ray</td>\n",
       "      <td>2698.870000</td>\n",
       "    </tr>\n",
       "    <tr>\n",
       "      <th>3</th>\n",
       "      <td>Chemotherapy</td>\n",
       "      <td>2629.707755</td>\n",
       "    </tr>\n",
       "    <tr>\n",
       "      <th>4</th>\n",
       "      <td>ECG</td>\n",
       "      <td>2532.216842</td>\n",
       "    </tr>\n",
       "  </tbody>\n",
       "</table>\n",
       "</div>"
      ],
      "text/plain": [
       "   tretment_type  average_cost\n",
       "0            MRI   3224.948889\n",
       "1  Physiotherapy   2761.613889\n",
       "2          X-Ray   2698.870000\n",
       "3   Chemotherapy   2629.707755\n",
       "4            ECG   2532.216842"
      ]
     },
     "execution_count": 61,
     "metadata": {},
     "output_type": "execute_result"
    }
   ],
   "source": [
    "query10=\"\"\"\n",
    "       select tretment_type, avg(cost) as average_cost from treatment \n",
    "group by tretment_type order by average_cost desc;\n",
    "\"\"\"\n",
    "treatment=pd.read_sql(query10,engine)\n",
    "treatment"
   ]
  },
  {
   "cell_type": "markdown",
   "id": "46be9137-d310-4c9e-93ec-f00a976ea70d",
   "metadata": {},
   "source": [
    "##### 11 what is the revenue by each treatment?"
   ]
  },
  {
   "cell_type": "code",
   "execution_count": 62,
   "id": "f7412af5-15f6-4b09-9e91-d2034a3514b8",
   "metadata": {},
   "outputs": [
    {
     "data": {
      "text/html": [
       "<div>\n",
       "<style scoped>\n",
       "    .dataframe tbody tr th:only-of-type {\n",
       "        vertical-align: middle;\n",
       "    }\n",
       "\n",
       "    .dataframe tbody tr th {\n",
       "        vertical-align: top;\n",
       "    }\n",
       "\n",
       "    .dataframe thead th {\n",
       "        text-align: right;\n",
       "    }\n",
       "</style>\n",
       "<table border=\"1\" class=\"dataframe\">\n",
       "  <thead>\n",
       "    <tr style=\"text-align: right;\">\n",
       "      <th></th>\n",
       "      <th>tretment_type</th>\n",
       "      <th>revenue</th>\n",
       "    </tr>\n",
       "  </thead>\n",
       "  <tbody>\n",
       "    <tr>\n",
       "      <th>0</th>\n",
       "      <td>Chemotherapy</td>\n",
       "      <td>128855.68</td>\n",
       "    </tr>\n",
       "    <tr>\n",
       "      <th>1</th>\n",
       "      <td>MRI</td>\n",
       "      <td>116098.16</td>\n",
       "    </tr>\n",
       "    <tr>\n",
       "      <th>2</th>\n",
       "      <td>X-Ray</td>\n",
       "      <td>110653.67</td>\n",
       "    </tr>\n",
       "    <tr>\n",
       "      <th>3</th>\n",
       "      <td>Physiotherapy</td>\n",
       "      <td>99418.10</td>\n",
       "    </tr>\n",
       "    <tr>\n",
       "      <th>4</th>\n",
       "      <td>ECG</td>\n",
       "      <td>96224.24</td>\n",
       "    </tr>\n",
       "  </tbody>\n",
       "</table>\n",
       "</div>"
      ],
      "text/plain": [
       "   tretment_type    revenue\n",
       "0   Chemotherapy  128855.68\n",
       "1            MRI  116098.16\n",
       "2          X-Ray  110653.67\n",
       "3  Physiotherapy   99418.10\n",
       "4            ECG   96224.24"
      ]
     },
     "execution_count": 62,
     "metadata": {},
     "output_type": "execute_result"
    }
   ],
   "source": [
    "query11=\"\"\"\n",
    "          select tretment_type, sum(cost) as revenue from treatment group by tretment_type \n",
    "order by revenue desc;\n",
    "\"\"\"\n",
    "treatment=pd.read_sql(query11,engine)\n",
    "treatment"
   ]
  },
  {
   "cell_type": "markdown",
   "id": "f3f9b295-7a57-4db6-8a04-0e48327db786",
   "metadata": {},
   "source": [
    "##### 12.Which doctors have the highest number of appointments?"
   ]
  },
  {
   "cell_type": "code",
   "execution_count": 64,
   "id": "e97fb082-375d-4b7c-a29f-6150765d9931",
   "metadata": {},
   "outputs": [
    {
     "data": {
      "text/html": [
       "<div>\n",
       "<style scoped>\n",
       "    .dataframe tbody tr th:only-of-type {\n",
       "        vertical-align: middle;\n",
       "    }\n",
       "\n",
       "    .dataframe tbody tr th {\n",
       "        vertical-align: top;\n",
       "    }\n",
       "\n",
       "    .dataframe thead th {\n",
       "        text-align: right;\n",
       "    }\n",
       "</style>\n",
       "<table border=\"1\" class=\"dataframe\">\n",
       "  <thead>\n",
       "    <tr style=\"text-align: right;\">\n",
       "      <th></th>\n",
       "      <th>name</th>\n",
       "      <th>total</th>\n",
       "    </tr>\n",
       "  </thead>\n",
       "  <tbody>\n",
       "    <tr>\n",
       "      <th>0</th>\n",
       "      <td>Sarah Taylor</td>\n",
       "      <td>29</td>\n",
       "    </tr>\n",
       "    <tr>\n",
       "      <th>1</th>\n",
       "      <td>David Taylor</td>\n",
       "      <td>25</td>\n",
       "    </tr>\n",
       "    <tr>\n",
       "      <th>2</th>\n",
       "      <td>Alex Davis</td>\n",
       "      <td>24</td>\n",
       "    </tr>\n",
       "    <tr>\n",
       "      <th>3</th>\n",
       "      <td>Jane Smith</td>\n",
       "      <td>22</td>\n",
       "    </tr>\n",
       "    <tr>\n",
       "      <th>4</th>\n",
       "      <td>Jane Davis</td>\n",
       "      <td>21</td>\n",
       "    </tr>\n",
       "    <tr>\n",
       "      <th>5</th>\n",
       "      <td>Linda Wilson</td>\n",
       "      <td>19</td>\n",
       "    </tr>\n",
       "    <tr>\n",
       "      <th>6</th>\n",
       "      <td>Sarah Smith</td>\n",
       "      <td>17</td>\n",
       "    </tr>\n",
       "    <tr>\n",
       "      <th>7</th>\n",
       "      <td>Linda Brown</td>\n",
       "      <td>16</td>\n",
       "    </tr>\n",
       "    <tr>\n",
       "      <th>8</th>\n",
       "      <td>David Jones</td>\n",
       "      <td>14</td>\n",
       "    </tr>\n",
       "    <tr>\n",
       "      <th>9</th>\n",
       "      <td>Robert Davis</td>\n",
       "      <td>13</td>\n",
       "    </tr>\n",
       "  </tbody>\n",
       "</table>\n",
       "</div>"
      ],
      "text/plain": [
       "           name  total\n",
       "0  Sarah Taylor     29\n",
       "1  David Taylor     25\n",
       "2    Alex Davis     24\n",
       "3    Jane Smith     22\n",
       "4    Jane Davis     21\n",
       "5  Linda Wilson     19\n",
       "6   Sarah Smith     17\n",
       "7   Linda Brown     16\n",
       "8   David Jones     14\n",
       "9  Robert Davis     13"
      ]
     },
     "execution_count": 64,
     "metadata": {},
     "output_type": "execute_result"
    }
   ],
   "source": [
    "query12=\"\"\"\n",
    "        select d.first_name ||' '||d.last_namle  as Name ,count(a.appointment_id) as total from doctor as d\n",
    "left join appointment as a on d.doctor_id=a.doctor_id \n",
    "group by Name order by total desc;\n",
    "\"\"\"\n",
    "\n",
    "name=pd.read_sql(query12,engine)\n",
    "name"
   ]
  },
  {
   "cell_type": "markdown",
   "id": "11690d64-7167-4516-97af-08ff1a982d0a",
   "metadata": {},
   "source": [
    "##### 13.What is the average appointment time per doctor? (if you have time data)"
   ]
  },
  {
   "cell_type": "code",
   "execution_count": 65,
   "id": "f97c1207-1171-45fb-b882-1d98b6f61050",
   "metadata": {},
   "outputs": [
    {
     "data": {
      "text/html": [
       "<div>\n",
       "<style scoped>\n",
       "    .dataframe tbody tr th:only-of-type {\n",
       "        vertical-align: middle;\n",
       "    }\n",
       "\n",
       "    .dataframe tbody tr th {\n",
       "        vertical-align: top;\n",
       "    }\n",
       "\n",
       "    .dataframe thead th {\n",
       "        text-align: right;\n",
       "    }\n",
       "</style>\n",
       "<table border=\"1\" class=\"dataframe\">\n",
       "  <thead>\n",
       "    <tr style=\"text-align: right;\">\n",
       "      <th></th>\n",
       "      <th>name</th>\n",
       "      <th>average_time</th>\n",
       "    </tr>\n",
       "  </thead>\n",
       "  <tbody>\n",
       "    <tr>\n",
       "      <th>0</th>\n",
       "      <td>Jane Smith</td>\n",
       "      <td>0 days 14:05:27.272727</td>\n",
       "    </tr>\n",
       "    <tr>\n",
       "      <th>1</th>\n",
       "      <td>Linda Wilson</td>\n",
       "      <td>0 days 13:30:00</td>\n",
       "    </tr>\n",
       "    <tr>\n",
       "      <th>2</th>\n",
       "      <td>Sarah Smith</td>\n",
       "      <td>0 days 13:13:14.117647</td>\n",
       "    </tr>\n",
       "    <tr>\n",
       "      <th>3</th>\n",
       "      <td>Linda Brown</td>\n",
       "      <td>0 days 12:58:07.500000</td>\n",
       "    </tr>\n",
       "    <tr>\n",
       "      <th>4</th>\n",
       "      <td>Jane Davis</td>\n",
       "      <td>0 days 12:44:17.142857</td>\n",
       "    </tr>\n",
       "    <tr>\n",
       "      <th>5</th>\n",
       "      <td>David Jones</td>\n",
       "      <td>0 days 12:43:55.714286</td>\n",
       "    </tr>\n",
       "    <tr>\n",
       "      <th>6</th>\n",
       "      <td>Alex Davis</td>\n",
       "      <td>0 days 12:40:37.500000</td>\n",
       "    </tr>\n",
       "    <tr>\n",
       "      <th>7</th>\n",
       "      <td>Robert Davis</td>\n",
       "      <td>0 days 12:36:55.384615</td>\n",
       "    </tr>\n",
       "    <tr>\n",
       "      <th>8</th>\n",
       "      <td>David Taylor</td>\n",
       "      <td>0 days 12:31:48</td>\n",
       "    </tr>\n",
       "    <tr>\n",
       "      <th>9</th>\n",
       "      <td>Sarah Taylor</td>\n",
       "      <td>0 days 12:30:00</td>\n",
       "    </tr>\n",
       "  </tbody>\n",
       "</table>\n",
       "</div>"
      ],
      "text/plain": [
       "           name           average_time\n",
       "0    Jane Smith 0 days 14:05:27.272727\n",
       "1  Linda Wilson        0 days 13:30:00\n",
       "2   Sarah Smith 0 days 13:13:14.117647\n",
       "3   Linda Brown 0 days 12:58:07.500000\n",
       "4    Jane Davis 0 days 12:44:17.142857\n",
       "5   David Jones 0 days 12:43:55.714286\n",
       "6    Alex Davis 0 days 12:40:37.500000\n",
       "7  Robert Davis 0 days 12:36:55.384615\n",
       "8  David Taylor        0 days 12:31:48\n",
       "9  Sarah Taylor        0 days 12:30:00"
      ]
     },
     "execution_count": 65,
     "metadata": {},
     "output_type": "execute_result"
    }
   ],
   "source": [
    "query13=\"\"\"\n",
    "       select d.first_name ||' '|| d.last_namle as name , avg(a.appointment_time) as average_time\n",
    "from doctor as d \n",
    "left join appointment as a on d.doctor_id=a.doctor_id\n",
    "group by name order by average_time desc;\n",
    "\"\"\"\n",
    "name=pd.read_sql(query13,engine)\n",
    "name"
   ]
  },
  {
   "cell_type": "markdown",
   "id": "b2f15230-d45d-4437-b476-3c4aaab95059",
   "metadata": {},
   "source": [
    "##### 14.How does the revenue generated by each doctor compare?"
   ]
  },
  {
   "cell_type": "code",
   "execution_count": 66,
   "id": "459546d4-fd17-4076-911e-cb9fb5c90fa9",
   "metadata": {},
   "outputs": [
    {
     "data": {
      "text/html": [
       "<div>\n",
       "<style scoped>\n",
       "    .dataframe tbody tr th:only-of-type {\n",
       "        vertical-align: middle;\n",
       "    }\n",
       "\n",
       "    .dataframe tbody tr th {\n",
       "        vertical-align: top;\n",
       "    }\n",
       "\n",
       "    .dataframe thead th {\n",
       "        text-align: right;\n",
       "    }\n",
       "</style>\n",
       "<table border=\"1\" class=\"dataframe\">\n",
       "  <thead>\n",
       "    <tr style=\"text-align: right;\">\n",
       "      <th></th>\n",
       "      <th>name</th>\n",
       "      <th>total_revenue</th>\n",
       "    </tr>\n",
       "  </thead>\n",
       "  <tbody>\n",
       "    <tr>\n",
       "      <th>0</th>\n",
       "      <td>Sarah Taylor</td>\n",
       "      <td>394356.89</td>\n",
       "    </tr>\n",
       "    <tr>\n",
       "      <th>1</th>\n",
       "      <td>Alex Davis</td>\n",
       "      <td>339280.84</td>\n",
       "    </tr>\n",
       "    <tr>\n",
       "      <th>2</th>\n",
       "      <td>David Taylor</td>\n",
       "      <td>336851.92</td>\n",
       "    </tr>\n",
       "    <tr>\n",
       "      <th>3</th>\n",
       "      <td>Linda Wilson</td>\n",
       "      <td>304846.08</td>\n",
       "    </tr>\n",
       "    <tr>\n",
       "      <th>4</th>\n",
       "      <td>Jane Smith</td>\n",
       "      <td>279957.14</td>\n",
       "    </tr>\n",
       "    <tr>\n",
       "      <th>5</th>\n",
       "      <td>Jane Davis</td>\n",
       "      <td>264650.98</td>\n",
       "    </tr>\n",
       "    <tr>\n",
       "      <th>6</th>\n",
       "      <td>Linda Brown</td>\n",
       "      <td>234358.03</td>\n",
       "    </tr>\n",
       "    <tr>\n",
       "      <th>7</th>\n",
       "      <td>Sarah Smith</td>\n",
       "      <td>214192.66</td>\n",
       "    </tr>\n",
       "    <tr>\n",
       "      <th>8</th>\n",
       "      <td>David Jones</td>\n",
       "      <td>191212.99</td>\n",
       "    </tr>\n",
       "    <tr>\n",
       "      <th>9</th>\n",
       "      <td>Robert Davis</td>\n",
       "      <td>188582.63</td>\n",
       "    </tr>\n",
       "  </tbody>\n",
       "</table>\n",
       "</div>"
      ],
      "text/plain": [
       "           name  total_revenue\n",
       "0  Sarah Taylor      394356.89\n",
       "1    Alex Davis      339280.84\n",
       "2  David Taylor      336851.92\n",
       "3  Linda Wilson      304846.08\n",
       "4    Jane Smith      279957.14\n",
       "5    Jane Davis      264650.98\n",
       "6   Linda Brown      234358.03\n",
       "7   Sarah Smith      214192.66\n",
       "8   David Jones      191212.99\n",
       "9  Robert Davis      188582.63"
      ]
     },
     "execution_count": 66,
     "metadata": {},
     "output_type": "execute_result"
    }
   ],
   "source": [
    "query14=\"\"\"\n",
    "          select d.first_name ||' '|| d.last_namle as name ,sum(b.amount) as total_revenue from doctor as d\n",
    "join appointment as a on d.doctor_id=a.doctor_id \n",
    "join billing as b on a.patient_id=b.patient_id\n",
    "group by name order by total_revenue desc;\n",
    "\"\"\"\n",
    "name=pd.read_sql(query14,engine)\n",
    "name"
   ]
  },
  {
   "cell_type": "markdown",
   "id": "870fbf7a-f702-4a5c-9d3f-3002c90b2d67",
   "metadata": {},
   "source": [
    "##### 15.How often do patients revisit the hospital ?"
   ]
  },
  {
   "cell_type": "code",
   "execution_count": 68,
   "id": "fe0cfa8e-aee5-4135-af8b-55fe3dd089e6",
   "metadata": {},
   "outputs": [
    {
     "data": {
      "text/html": [
       "<div>\n",
       "<style scoped>\n",
       "    .dataframe tbody tr th:only-of-type {\n",
       "        vertical-align: middle;\n",
       "    }\n",
       "\n",
       "    .dataframe tbody tr th {\n",
       "        vertical-align: top;\n",
       "    }\n",
       "\n",
       "    .dataframe thead th {\n",
       "        text-align: right;\n",
       "    }\n",
       "</style>\n",
       "<table border=\"1\" class=\"dataframe\">\n",
       "  <thead>\n",
       "    <tr style=\"text-align: right;\">\n",
       "      <th></th>\n",
       "      <th>patientid</th>\n",
       "      <th>name</th>\n",
       "      <th>visit_total</th>\n",
       "    </tr>\n",
       "  </thead>\n",
       "  <tbody>\n",
       "    <tr>\n",
       "      <th>0</th>\n",
       "      <td>P012</td>\n",
       "      <td>Laura Davis</td>\n",
       "      <td>10</td>\n",
       "    </tr>\n",
       "    <tr>\n",
       "      <th>1</th>\n",
       "      <td>P005</td>\n",
       "      <td>David Wilson</td>\n",
       "      <td>8</td>\n",
       "    </tr>\n",
       "    <tr>\n",
       "      <th>2</th>\n",
       "      <td>P016</td>\n",
       "      <td>Michael Taylor</td>\n",
       "      <td>7</td>\n",
       "    </tr>\n",
       "    <tr>\n",
       "      <th>3</th>\n",
       "      <td>P029</td>\n",
       "      <td>David Smith</td>\n",
       "      <td>7</td>\n",
       "    </tr>\n",
       "    <tr>\n",
       "      <th>4</th>\n",
       "      <td>P035</td>\n",
       "      <td>David Wilson</td>\n",
       "      <td>7</td>\n",
       "    </tr>\n",
       "    <tr>\n",
       "      <th>5</th>\n",
       "      <td>P036</td>\n",
       "      <td>Michael Wilson</td>\n",
       "      <td>7</td>\n",
       "    </tr>\n",
       "    <tr>\n",
       "      <th>6</th>\n",
       "      <td>P049</td>\n",
       "      <td>David Moore</td>\n",
       "      <td>7</td>\n",
       "    </tr>\n",
       "    <tr>\n",
       "      <th>7</th>\n",
       "      <td>P010</td>\n",
       "      <td>Michael Taylor</td>\n",
       "      <td>6</td>\n",
       "    </tr>\n",
       "    <tr>\n",
       "      <th>8</th>\n",
       "      <td>P023</td>\n",
       "      <td>Linda Johnson</td>\n",
       "      <td>6</td>\n",
       "    </tr>\n",
       "    <tr>\n",
       "      <th>9</th>\n",
       "      <td>P026</td>\n",
       "      <td>John Taylor</td>\n",
       "      <td>6</td>\n",
       "    </tr>\n",
       "  </tbody>\n",
       "</table>\n",
       "</div>"
      ],
      "text/plain": [
       "  patientid            name  visit_total\n",
       "0      P012     Laura Davis           10\n",
       "1      P005    David Wilson            8\n",
       "2      P016  Michael Taylor            7\n",
       "3      P029     David Smith            7\n",
       "4      P035    David Wilson            7\n",
       "5      P036  Michael Wilson            7\n",
       "6      P049     David Moore            7\n",
       "7      P010  Michael Taylor            6\n",
       "8      P023   Linda Johnson            6\n",
       "9      P026     John Taylor            6"
      ]
     },
     "execution_count": 68,
     "metadata": {},
     "output_type": "execute_result"
    }
   ],
   "source": [
    "query15=\"\"\"\n",
    "        select distinct(p.patient_id) as patientID ,\n",
    "p.first_name ||' '|| p.last_name as name ,\n",
    "count(a.appointment_id) as visit_total from patient as p\n",
    "join appointment as a on p.patient_id=a.patient_id\n",
    "group by patientID , name order by visit_total desc;\n",
    "\"\"\"\n",
    "name=pd.read_sql(query15,engine)\n",
    "name.head(10)"
   ]
  },
  {
   "cell_type": "markdown",
   "id": "a62fb9aa-07d0-4487-b08a-3b8bcd954507",
   "metadata": {},
   "source": [
    "##### 16.What percentage of patients have multiple treatments?"
   ]
  },
  {
   "cell_type": "code",
   "execution_count": 69,
   "id": "dbb6f266-f47c-4ec5-b1f4-37bf7f13e5c2",
   "metadata": {},
   "outputs": [
    {
     "data": {
      "text/html": [
       "<div>\n",
       "<style scoped>\n",
       "    .dataframe tbody tr th:only-of-type {\n",
       "        vertical-align: middle;\n",
       "    }\n",
       "\n",
       "    .dataframe tbody tr th {\n",
       "        vertical-align: top;\n",
       "    }\n",
       "\n",
       "    .dataframe thead th {\n",
       "        text-align: right;\n",
       "    }\n",
       "</style>\n",
       "<table border=\"1\" class=\"dataframe\">\n",
       "  <thead>\n",
       "    <tr style=\"text-align: right;\">\n",
       "      <th></th>\n",
       "      <th>treatment_group</th>\n",
       "      <th>percentage</th>\n",
       "    </tr>\n",
       "  </thead>\n",
       "  <tbody>\n",
       "    <tr>\n",
       "      <th>0</th>\n",
       "      <td>Multiple Treatments</td>\n",
       "      <td>100.0</td>\n",
       "    </tr>\n",
       "  </tbody>\n",
       "</table>\n",
       "</div>"
      ],
      "text/plain": [
       "       treatment_group  percentage\n",
       "0  Multiple Treatments       100.0"
      ]
     },
     "execution_count": 69,
     "metadata": {},
     "output_type": "execute_result"
    }
   ],
   "source": [
    "query16=\"\"\"\n",
    "WITH treatment_counts AS (\n",
    "    SELECT\n",
    "        a.patient_id,\n",
    "        COUNT(t.treatment_id) AS treatment_count\n",
    "    FROM treatment t\n",
    "    JOIN appointment a ON t.appointment_id = a.appointment_id\n",
    "    GROUP BY a.patient_id\n",
    ")\n",
    "SELECT\n",
    "    CASE WHEN treatment_count > 1 THEN 'Multiple Treatments' ELSE 'Single Treatment' END AS treatment_group,\n",
    "    COUNT(*) * 100.0 / (SELECT COUNT(DISTINCT patient_id) FROM appointment) AS percentage\n",
    "FROM treatment_counts\n",
    "GROUP BY treatment_group;\n",
    "\"\"\"\n",
    "\n",
    "treatment=pd.read_sql(query16,engine)\n",
    "treatment"
   ]
  },
  {
   "cell_type": "markdown",
   "id": "ad3a1a47-b573-4532-82cb-ad02964daa5f",
   "metadata": {},
   "source": [
    "##### 17.Are there seasonal patterns in patient visits or treatments?"
   ]
  },
  {
   "cell_type": "code",
   "execution_count": 72,
   "id": "cdef8052-8d34-4a0e-a3be-91500be4b889",
   "metadata": {},
   "outputs": [
    {
     "data": {
      "text/html": [
       "<div>\n",
       "<style scoped>\n",
       "    .dataframe tbody tr th:only-of-type {\n",
       "        vertical-align: middle;\n",
       "    }\n",
       "\n",
       "    .dataframe tbody tr th {\n",
       "        vertical-align: top;\n",
       "    }\n",
       "\n",
       "    .dataframe thead th {\n",
       "        text-align: right;\n",
       "    }\n",
       "</style>\n",
       "<table border=\"1\" class=\"dataframe\">\n",
       "  <thead>\n",
       "    <tr style=\"text-align: right;\">\n",
       "      <th></th>\n",
       "      <th>quarters</th>\n",
       "      <th>total_appointment</th>\n",
       "    </tr>\n",
       "  </thead>\n",
       "  <tbody>\n",
       "    <tr>\n",
       "      <th>0</th>\n",
       "      <td>quarter_1</td>\n",
       "      <td>53.0</td>\n",
       "    </tr>\n",
       "    <tr>\n",
       "      <th>1</th>\n",
       "      <td>quarter_2</td>\n",
       "      <td>62.0</td>\n",
       "    </tr>\n",
       "    <tr>\n",
       "      <th>2</th>\n",
       "      <td>quarter_3</td>\n",
       "      <td>42.0</td>\n",
       "    </tr>\n",
       "    <tr>\n",
       "      <th>3</th>\n",
       "      <td>quarter_4</td>\n",
       "      <td>43.0</td>\n",
       "    </tr>\n",
       "  </tbody>\n",
       "</table>\n",
       "</div>"
      ],
      "text/plain": [
       "    quarters  total_appointment\n",
       "0  quarter_1               53.0\n",
       "1  quarter_2               62.0\n",
       "2  quarter_3               42.0\n",
       "3  quarter_4               43.0"
      ]
     },
     "execution_count": 72,
     "metadata": {},
     "output_type": "execute_result"
    }
   ],
   "source": [
    "query17=\"\"\"\n",
    "with seasonal as( select extract(month from treatment_date)as month ,\n",
    "count(*) as total_appointment from treatment group by month order by month)\n",
    "select \n",
    "      case\n",
    "\t  when month>=1 and month<=3 then 'quarter_1'\n",
    "\t  when month>=3 and month<=6 then 'quarter_2'\n",
    "\t  when month>=6 and month<=9 then 'quarter_3'\n",
    "\t  when month>=9 and month <=12 then 'quarter_4'\n",
    "\t  else 'invalid' end as quarters,\n",
    "\t  sum(total_appointment) as total_appointment from  seasonal \n",
    "\t  group by quarters order by quarters ;\n",
    "\"\"\"\n",
    "month=pd.read_sql(query17,engine)\n",
    "month"
   ]
  },
  {
   "cell_type": "code",
   "execution_count": 73,
   "id": "b2c7bfc8-df89-4781-a7c7-06ac34885632",
   "metadata": {},
   "outputs": [
    {
     "data": {
      "text/html": [
       "<div>\n",
       "<style scoped>\n",
       "    .dataframe tbody tr th:only-of-type {\n",
       "        vertical-align: middle;\n",
       "    }\n",
       "\n",
       "    .dataframe tbody tr th {\n",
       "        vertical-align: top;\n",
       "    }\n",
       "\n",
       "    .dataframe thead th {\n",
       "        text-align: right;\n",
       "    }\n",
       "</style>\n",
       "<table border=\"1\" class=\"dataframe\">\n",
       "  <thead>\n",
       "    <tr style=\"text-align: right;\">\n",
       "      <th></th>\n",
       "      <th>month</th>\n",
       "      <th>total_appointment</th>\n",
       "    </tr>\n",
       "  </thead>\n",
       "  <tbody>\n",
       "    <tr>\n",
       "      <th>0</th>\n",
       "      <td>1.0</td>\n",
       "      <td>20</td>\n",
       "    </tr>\n",
       "    <tr>\n",
       "      <th>1</th>\n",
       "      <td>2.0</td>\n",
       "      <td>14</td>\n",
       "    </tr>\n",
       "    <tr>\n",
       "      <th>2</th>\n",
       "      <td>3.0</td>\n",
       "      <td>19</td>\n",
       "    </tr>\n",
       "    <tr>\n",
       "      <th>3</th>\n",
       "      <td>4.0</td>\n",
       "      <td>25</td>\n",
       "    </tr>\n",
       "    <tr>\n",
       "      <th>4</th>\n",
       "      <td>5.0</td>\n",
       "      <td>19</td>\n",
       "    </tr>\n",
       "    <tr>\n",
       "      <th>5</th>\n",
       "      <td>6.0</td>\n",
       "      <td>18</td>\n",
       "    </tr>\n",
       "    <tr>\n",
       "      <th>6</th>\n",
       "      <td>7.0</td>\n",
       "      <td>16</td>\n",
       "    </tr>\n",
       "    <tr>\n",
       "      <th>7</th>\n",
       "      <td>8.0</td>\n",
       "      <td>15</td>\n",
       "    </tr>\n",
       "    <tr>\n",
       "      <th>8</th>\n",
       "      <td>9.0</td>\n",
       "      <td>11</td>\n",
       "    </tr>\n",
       "    <tr>\n",
       "      <th>9</th>\n",
       "      <td>10.0</td>\n",
       "      <td>14</td>\n",
       "    </tr>\n",
       "    <tr>\n",
       "      <th>10</th>\n",
       "      <td>11.0</td>\n",
       "      <td>17</td>\n",
       "    </tr>\n",
       "    <tr>\n",
       "      <th>11</th>\n",
       "      <td>12.0</td>\n",
       "      <td>12</td>\n",
       "    </tr>\n",
       "  </tbody>\n",
       "</table>\n",
       "</div>"
      ],
      "text/plain": [
       "    month  total_appointment\n",
       "0     1.0                 20\n",
       "1     2.0                 14\n",
       "2     3.0                 19\n",
       "3     4.0                 25\n",
       "4     5.0                 19\n",
       "5     6.0                 18\n",
       "6     7.0                 16\n",
       "7     8.0                 15\n",
       "8     9.0                 11\n",
       "9    10.0                 14\n",
       "10   11.0                 17\n",
       "11   12.0                 12"
      ]
     },
     "execution_count": 73,
     "metadata": {},
     "output_type": "execute_result"
    }
   ],
   "source": [
    "query18=\"\"\"\n",
    "select extract(month from treatment_date)as month ,count(*) as total_appointment\n",
    "from treatment group by month order by month ;\n",
    "\"\"\"\n",
    "month2=pd.read_sql(query18,engine)\n",
    "month2"
   ]
  },
  {
   "cell_type": "code",
   "execution_count": null,
   "id": "139010c1-8a72-4112-877f-eed3119bdc0c",
   "metadata": {},
   "outputs": [],
   "source": []
  }
 ],
 "metadata": {
  "kernelspec": {
   "display_name": "Python 3 (ipykernel)",
   "language": "python",
   "name": "python3"
  },
  "language_info": {
   "codemirror_mode": {
    "name": "ipython",
    "version": 3
   },
   "file_extension": ".py",
   "mimetype": "text/x-python",
   "name": "python",
   "nbconvert_exporter": "python",
   "pygments_lexer": "ipython3",
   "version": "3.12.10"
  }
 },
 "nbformat": 4,
 "nbformat_minor": 5
}
